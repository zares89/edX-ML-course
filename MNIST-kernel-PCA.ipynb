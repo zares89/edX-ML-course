{
 "cells": [
  {
   "cell_type": "code",
   "execution_count": 22,
   "id": "8843c750",
   "metadata": {},
   "outputs": [],
   "source": [
    "%matplotlib inline\n",
    "import sys\n",
    "import matplotlib.pyplot as plt \n",
    "import gzip, os\n",
    "import numpy as np\n",
    "import pandas as pd\n",
    "from scipy.stats import multivariate_normal"
   ]
  },
  {
   "cell_type": "code",
   "execution_count": 2,
   "id": "21d7311e",
   "metadata": {},
   "outputs": [],
   "source": [
    "# Function that downloads a specified MNIST data file from Yann Le Cun's website\n",
    "def download(filename, source='http://yann.lecun.com/exdb/mnist/'):\n",
    "    print(\"Downloading %s\" % filename)\n",
    "    urlretrieve(source + filename, filename)\n",
    "\n",
    "# Invokes download() if necessary, then reads in images\n",
    "def load_mnist_images(filename):\n",
    "    if not os.path.exists(filename):\n",
    "        download(filename)\n",
    "    with gzip.open(filename, 'rb') as f:\n",
    "        data = np.frombuffer(f.read(), np.uint8, offset=16)\n",
    "    data = data.reshape(-1,784)\n",
    "    return data\n",
    "\n",
    "def load_mnist_labels(filename):\n",
    "    if not os.path.exists(filename):\n",
    "        download(filename)\n",
    "    with gzip.open(filename, 'rb') as f:\n",
    "        data = np.frombuffer(f.read(), np.uint8, offset=8)\n",
    "    return data"
   ]
  },
  {
   "cell_type": "code",
   "execution_count": 24,
   "id": "3f5b3784",
   "metadata": {},
   "outputs": [],
   "source": [
    "## Load the training set\n",
    "train_data = pd.read_csv(\"digit-recognizer/train.csv\")\n",
    "test_data = pd.read_csv(\"digit-recognizer/test.csv\")\n",
    "\n",
    "targets_numpy = train_data.label.values\n",
    "features_numpy = train_data.loc[:,train_data.columns != \"label\"].values"
   ]
  },
  {
   "cell_type": "code",
   "execution_count": 8,
   "id": "e2bba443",
   "metadata": {},
   "outputs": [],
   "source": [
    "def displaychar(image):\n",
    "    plt.imshow(np.reshape(image, (28,28)), cmap=plt.cm.gray)\n",
    "    plt.axis('off')\n",
    "    plt.show()"
   ]
  },
  {
   "cell_type": "code",
   "execution_count": 26,
   "id": "5a614b46",
   "metadata": {},
   "outputs": [
    {
     "data": {
      "image/png": "[encoded data removed]",
      "text/plain": [
       "<Figure size 640x480 with 1 Axes>"
      ]
     },
     "metadata": {},
     "output_type": "display_data"
    }
   ],
   "source": [
    "displaychar(features_numpy[58])"
   ]
  },
  {
   "cell_type": "markdown",
   "id": "c062217f",
   "metadata": {},
   "source": [
    "## 1. Data preprocessing"
   ]
  },
  {
   "cell_type": "code",
   "execution_count": 17,
   "id": "b3276b6b",
   "metadata": {},
   "outputs": [
    {
     "ename": "SyntaxError",
     "evalue": "invalid syntax (673256352.py, line 1)",
     "output_type": "error",
     "traceback": [
      "\u001b[0;36m  Cell \u001b[0;32mIn[17], line 1\u001b[0;36m\u001b[0m\n\u001b[0;31m    train_data = (train_data - np.mean(train_data, axis=1)) ./ np.std(train_data, axis=1)\u001b[0m\n\u001b[0m                                                             ^\u001b[0m\n\u001b[0;31mSyntaxError\u001b[0m\u001b[0;31m:\u001b[0m invalid syntax\n"
     ]
    }
   ],
   "source": [
    "train_data = (train_data - np.mean(train_data, axis=1)) ./ np.std(train_data, axis=1)"
   ]
  },
  {
   "cell_type": "markdown",
   "id": "8c3fc24c",
   "metadata": {},
   "source": [
    "## 2. Fit a Gaussian generative model to the training data"
   ]
  },
  {
   "cell_type": "markdown",
   "id": "a5fcec63",
   "metadata": {},
   "source": [
    "**<font color=\"magenta\">For you to do:</font>** Define a function, **fit_generative_model**, that takes as input a training set (data `x` and labels `y`) and fits a Gaussian generative model to it. It should return the parameters of this generative model; for each label `j = 0,1,...,9`, we have:\n",
    "* `pi[j]`: the frequency of that label\n",
    "* `mu[j]`: the 784-dimensional mean vector\n",
    "* `sigma[j]`: the 784x784 covariance matrix\n",
    "\n",
    "This means that `pi` is 10x1, `mu` is 10x784, and `sigma` is 10x784x784.\n",
    "\n",
    "We have already seen how to fit a Gaussian generative model in the Winery example, but now there is an added ingredient. <font color=\"magenta\">The empirical covariances are very likely to be singular (or close to singular), which means that we won't be able to do calculations with them</font>. Thus it is important to **regularize** these matrices. The standard way of doing this is to add `cI` to them, where `c` is some constant and `I` is the 784-dimensional identity matrix. (To put it another way, we compute the empirical covariances and then increase their diagonal entries by some constant `c`.)\n",
    "\n",
    "This modification is guaranteed to yield covariance matrices that are non-singular, for any `c > 0`, no matter how small. But this doesn't mean that we should make `c` as small as possible. Indeed, `c` is now a parameter, and by setting it appropriately, we can improve the performance of the model. We will study **regularization** in greater detail over the coming weeks.\n",
    "\n",
    "Your routine needs to choose a good setting of `c`. Crucially, this needs to be done using the training set alone. So you might try setting aside part of the training set as a validation set, or using some kind of cross-validation."
   ]
  },
  {
   "cell_type": "code",
   "execution_count": 10,
   "id": "2f618f38",
   "metadata": {},
   "outputs": [],
   "source": [
    "def fit_generative_model(x,y):\n",
    "    k = 10  # labels 0,1,...,k-1\n",
    "    d = (x.shape)[1]  # number of features\n",
    "    mu = np.zeros((k,d))\n",
    "    sigma = np.zeros((k,d,d))\n",
    "    pi = np.zeros(k)\n",
    "    # Separate data for validation\n",
    "    x_size = x.shape[0]\n",
    "    train_size = round(x_size * 0.99)\n",
    "    print(\"Training size is {} out of total {} data point\".format(train_size, x_size))\n",
    "#     x_train = x[:train_size,:]\n",
    "#     x_validation = x[train_size+1:,:]\n",
    "#     y_train = y[:train_size]\n",
    "#     y_validation = y[train_size+1:]\n",
    "#     nt = len(y_validation)\n",
    "    x_train = x\n",
    "    y_train = y\n",
    "        \n",
    "    # Initializing the optimizition for c constant\n",
    "    c = 4000\n",
    "    gen_tresh = 0.05\n",
    "\n",
    "    while True:\n",
    "        for label in range(k):\n",
    "            indices = (y_train == label)\n",
    "            mu[label] = np.mean(x_train[indices,:], axis = 0)\n",
    "            sigma[label] = np.cov(x_train[indices,:], rowvar=0, bias=1)\n",
    "            sigma[label] += c * np.identity(d)\n",
    "            pi[label] = np.sum(indices)\n",
    "\n",
    "#         pi = pi / (x_train.shape)[0]\n",
    "#         # Test the covariance matrix for c optimization\n",
    "#         score = np.zeros((x_validation.shape[0],k+1))\n",
    "#         for i in range(0,nt):\n",
    "#             for label in range(k):\n",
    "#                 score[i, label] = np.log(pi[label]) + \\\n",
    "#             multivariate_normal.logpdf(x_validation[i,:], mean=mu[label,:], cov=sigma[label])\n",
    "#         predictions = np.argmax(score, axis=1)\n",
    "#         err = np.sum(predictions != y_validation) / nt\n",
    "#         if err < gen_thresh:\n",
    "#             print(\"Final error rate is {}\".format(err))\n",
    "#             break\n",
    "#         else:\n",
    "#             print(\"Error is too large: {}\".format(err))\n",
    "#             c /= 2\n",
    "        break\n",
    "    \n",
    "    # Halt and return parameters\n",
    "    return mu, sigma, pi"
   ]
  },
  {
   "cell_type": "code",
   "execution_count": 18,
   "id": "1c145659",
   "metadata": {},
   "outputs": [
    {
     "name": "stdout",
     "output_type": "stream",
     "text": [
      "Training size is 59400 out of total 60000 data point\n"
     ]
    },
    {
     "data": {
      "image/png": "[encoded data removed]",
      "text/plain": [
       "<Figure size 640x480 with 1 Axes>"
      ]
     },
     "metadata": {},
     "output_type": "display_data"
    },
    {
     "data": {
      "image/png": "[encoded data removed]",
      "text/plain": [
       "<Figure size 640x480 with 1 Axes>"
      ]
     },
     "metadata": {},
     "output_type": "display_data"
    },
    {
     "data": {
      "image/png": "[encoded data removed]",
      "text/plain": [
       "<Figure size 640x480 with 1 Axes>"
      ]
     },
     "metadata": {},
     "output_type": "display_data"
    }
   ],
   "source": [
    "mu, sigma, pi = fit_generative_model(train_data, train_labels)\n",
    "displaychar(mu[3])\n",
    "displaychar(mu[4])\n",
    "displaychar(mu[5])"
   ]
  },
  {
   "cell_type": "markdown",
   "id": "08402d51",
   "metadata": {},
   "source": [
    "Kernel-PCA"
   ]
  },
  {
   "cell_type": "code",
   "execution_count": null,
   "id": "92cd0494",
   "metadata": {},
   "outputs": [],
   "source": [
    "from sklearn import datasets, decomposition\n",
    "kernel_pca = decomposition.KernelPCA(n_components=None, kernel=\"rbf\", gamma=10, fit_inverse_transform=True, alpha=0.1)\n",
    "kernel_pca.fit(features_numpy)\n",
    "result_l = kernel_pca.transform(features_numpy)"
   ]
  },
  {
   "cell_type": "code",
   "execution_count": null,
   "id": "178a5343",
   "metadata": {},
   "outputs": [],
   "source": []
  }
 ],
 "metadata": {
  "kernelspec": {
   "display_name": "Python 3 (ipykernel)",
   "language": "python",
   "name": "python3"
  },
  "language_info": {
   "codemirror_mode": {
    "name": "ipython",
    "version": 3
   },
   "file_extension": ".py",
   "mimetype": "text/x-python",
   "name": "python",
   "nbconvert_exporter": "python",
   "pygments_lexer": "ipython3",
   "version": "3.11.5"
  }
 },
 "nbformat": 4,
 "nbformat_minor": 5
}
